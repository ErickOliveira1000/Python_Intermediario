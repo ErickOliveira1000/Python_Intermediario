{
  "cells": [
    {
      "cell_type": "markdown",
      "id": "02e47197",
      "metadata": {
        "id": "02e47197"
      },
      "source": [
        "## Exercícios:\n",
        "\n",
        "#### **Q1**.\n",
        "Faça um procedimento recursivo que receba dois valores inteiros `a` e `b` e imprime o intervalo fechado entre eles. Se `a > b` imprima uma mensagem de erro.\n",
        "\n",
        "| Entrada |  Saída |\n",
        "| ------- | ------ |\n",
        "| 1 10    | 1 2 3 4 5 6 7 8 9 10 |\n",
        "| -5 1    | -5 -4 -3 -2 -1 |\n",
        "| 5 -5    | Valores invalidos |\n",
        "| 17 20   | 17 18 19 20 |"
      ]
    },
    {
      "cell_type": "markdown",
      "id": "c87bc264",
      "metadata": {
        "id": "c87bc264"
      },
      "source": [
        "> Projeto Desenvolve <br>\n",
        "Programação Intermediária com Python <br>\n",
        "Profa. Camila Laranjeira (mila@projetodesenvolve.com.br) <br>\n",
        "\n",
        "# 1.1 - Recursividade"
      ]
    },
    {
      "cell_type": "code",
      "execution_count": null,
      "id": "e89a9966",
      "metadata": {
        "colab": {
          "base_uri": "https://localhost:8080/"
        },
        "id": "e89a9966",
        "outputId": "535ad916-f0d2-474b-c821-c16baf57205e"
      },
      "outputs": [
        {
          "output_type": "stream",
          "name": "stdout",
          "text": [
            "1 2 3 4 5 6 7 8 9 10 \n",
            "-5 -4 -3 -2 -1 \n",
            " Valores invalidos\n",
            "17 18 19 20 "
          ]
        }
      ],
      "source": [
        "def intervalo_fechado(a, b):\n",
        "  if a>b:\n",
        "    print(f' Valores invalidos')\n",
        "    return\n",
        "\n",
        "  # caso base / condição de parada\n",
        "  if a == b:\n",
        "    print(a, end = ' ')\n",
        "\n",
        "  # passo recursivo\n",
        "  else:\n",
        "    print(a, end = ' ')\n",
        "    intervalo_fechado(a+1, b)\n",
        "\n",
        "intervalo_fechado(1, 10)\n",
        "print(end= '\\n')\n",
        "intervalo_fechado(-5, -1)\n",
        "print(end= '\\n')\n",
        "intervalo_fechado(5, -5)\n",
        "intervalo_fechado(17, 20)"
      ]
    },
    {
      "cell_type": "markdown",
      "id": "b48196ed",
      "metadata": {
        "id": "b48196ed"
      },
      "source": [
        "---\n",
        "\n",
        "\n",
        "#### **Q2**.\n",
        "Mudando **apenas uma linha**, altere o código anterior para imprimir o intervalo invertido.\n",
        "\n",
        "| Entrada |  Saída |\n",
        "| ------- | ------ |\n",
        "| 1 10    | 10 9 8 7 6 5 4 3 2 1 |\n",
        "| -5 1    | -1 -2 -3 -4 -5 |\n",
        "| 5 -5    | Valores invalidos |\n",
        "| 17 20   | 20 19 18 17 |"
      ]
    },
    {
      "cell_type": "code",
      "execution_count": null,
      "id": "4d0c21b4",
      "metadata": {
        "colab": {
          "base_uri": "https://localhost:8080/"
        },
        "id": "4d0c21b4",
        "outputId": "954fe2af-0dc1-434c-fa7f-74b9f80a02b3"
      },
      "outputs": [
        {
          "output_type": "stream",
          "name": "stdout",
          "text": [
            "10 9 8 7 6 5 4 3 2 1 \n",
            "-1 -2 -3 -4 -5 \n",
            " Valores invalidos\n",
            "20 19 18 17 "
          ]
        }
      ],
      "source": [
        "def intervalo_fechado(a, b):\n",
        "  if a>b:\n",
        "    print(f' Valores invalidos')\n",
        "    return\n",
        "\n",
        "  # caso base / condição de parada\n",
        "  if a == b:\n",
        "    print(a, end = ' ')\n",
        "\n",
        "  # passo recursivo\n",
        "  else:\n",
        "    intervalo_fechado(a+1, b)\n",
        "    print(a, end = ' ')\n",
        "\n",
        "intervalo_fechado(1, 10)\n",
        "print(end= '\\n')\n",
        "intervalo_fechado(-5, -1)\n",
        "print(end= '\\n')\n",
        "intervalo_fechado(5, -5)\n",
        "intervalo_fechado(17, 20)"
      ]
    },
    {
      "cell_type": "markdown",
      "id": "be727074",
      "metadata": {
        "id": "be727074"
      },
      "source": [
        "\n",
        "\n",
        "---\n",
        "\n",
        "\n",
        "#### **Q3**.\n",
        "Escreva uma função recursiva que recebe um inteiro `n > 1` e calcula a soma dos valores entre `n` e `1`.\n",
        "\n",
        "| Entrada |  Saída |\n",
        "| ------- | ------ |\n",
        "| 5   | 15 |\n",
        "| 13  | 78 |"
      ]
    },
    {
      "cell_type": "code",
      "execution_count": 1,
      "id": "c4da98b8",
      "metadata": {
        "colab": {
          "base_uri": "https://localhost:8080/"
        },
        "id": "c4da98b8",
        "outputId": "599e53bb-b2b8-42cd-c802-b8fc79d0aeef"
      },
      "outputs": [
        {
          "output_type": "execute_result",
          "data": {
            "text/plain": [
              "91"
            ]
          },
          "metadata": {},
          "execution_count": 1
        }
      ],
      "source": [
        "def somatorio(n):\n",
        "  # caso base / condição de parada\n",
        "  if n == 1:\n",
        "    return n\n",
        "\n",
        "  # passo recursivo\n",
        "  else:\n",
        "    return n + somatorio(n-1)\n",
        "\n",
        "somatorio(5)\n",
        "somatorio(13)"
      ]
    },
    {
      "cell_type": "markdown",
      "id": "4142b276",
      "metadata": {
        "id": "4142b276"
      },
      "source": [
        "\n",
        "\n",
        "---\n",
        "\n",
        "\n",
        "#### **Q4**.  \n",
        "\n",
        "Escreva uma função recursiva que recebe um inteiro `n` e verifica se `n`é um valor primo, ou seja, se é divisível apenas por si mesmo e por `1`."
      ]
    },
    {
      "cell_type": "code",
      "execution_count": null,
      "id": "4c96eb2d",
      "metadata": {
        "id": "4c96eb2d",
        "colab": {
          "base_uri": "https://localhost:8080/"
        },
        "outputId": "b1916950-555b-45e6-a187-45bab33c3cc4"
      },
      "outputs": [
        {
          "output_type": "stream",
          "name": "stdout",
          "text": [
            "7 é primo.\n",
            "8 não é primo.\n",
            "1 não é primo.\n"
          ]
        }
      ],
      "source": [
        "def numero_primo(n, divisor=2):\n",
        "    # Caso base: se n for menor que 2, não é primo\n",
        "    if n < 2:\n",
        "      print(f'{n} não é primo.')\n",
        "      return\n",
        "\n",
        "    # Caso base: se o divisor atingir n, então n é primo\n",
        "    if divisor == n:\n",
        "      print(f'{n} é primo.')\n",
        "      return\n",
        "\n",
        "    # Caso recursivo: se n for divisível por divisor, não é primo\n",
        "    if n % divisor == 0:\n",
        "      print(f'{n} não é primo.')\n",
        "      return\n",
        "\n",
        "    # Passo recursivo: continua testando divisores\n",
        "    else:\n",
        "        return numero_primo(n, divisor + 1)\n",
        "numero_primo(7)\n",
        "numero_primo(8)\n",
        "numero_primo(1)"
      ]
    },
    {
      "cell_type": "markdown",
      "id": "2a0ae81c",
      "metadata": {
        "id": "2a0ae81c"
      },
      "source": [
        "\n",
        "\n",
        "---\n",
        "\n",
        "\n",
        "#### **Q5**.\n",
        "Implemente uma função recursiva que recebe um número inteiro decimal e retorna sua representação binária como uma string. Para realizar essa conversão, utilize o método de divisão sucessiva, onde você divide o número decimal por 2 e coleta os restos até que o quociente seja zero. A ordem dos restos coletados, de baixo para cima, forma o número binário correspondente.\n",
        "\n",
        "**Exemplo de Conversão:**\n",
        "\n",
        "Para converter o número decimal 13 para binário:\n",
        "```\n",
        "13 ÷ 2 = 6, resto 1\n",
        "6 ÷ 2 = 3, resto 0\n",
        "3 ÷ 2 = 1, resto 1\n",
        "1 ÷ 2 = 0, resto 1\n",
        "```\n",
        "Lendo os restos de baixo para cima, obtemos o número binário `1101`."
      ]
    },
    {
      "cell_type": "code",
      "execution_count": null,
      "id": "a7d954f0",
      "metadata": {
        "id": "a7d954f0",
        "colab": {
          "base_uri": "https://localhost:8080/",
          "height": 35
        },
        "outputId": "f189bdbf-2f4b-45c2-b582-3feead1ec99c"
      },
      "outputs": [
        {
          "output_type": "execute_result",
          "data": {
            "text/plain": [
              "'1101'"
            ],
            "application/vnd.google.colaboratory.intrinsic+json": {
              "type": "string"
            }
          },
          "metadata": {},
          "execution_count": 13
        }
      ],
      "source": [
        "def decimal_para_binario(n):\n",
        "    if n == 0:\n",
        "        return \"0\"\n",
        "    elif n == 1:\n",
        "        return \"1\"\n",
        "    else:\n",
        "        resto = n % 2\n",
        "        return decimal_para_binario(n // 2) + str(resto)\n",
        "decimal_para_binario(13)"
      ]
    },
    {
      "cell_type": "markdown",
      "id": "0f500709",
      "metadata": {
        "id": "0f500709"
      },
      "source": [
        "\n",
        "\n",
        "---\n",
        "\n",
        "\n",
        "#### **Extra**:\n",
        "\n",
        "Implemente uma função recursiva em Python que realiza a travessia em pré-ordem de uma árvore binária representada por listas aninhadas. Na travessia em pré-ordem (ou pré-fixada), o nó raiz é visitado primeiro, seguido pela subárvore esquerda e, por fim, pela subárvore direita. A questão fixa as constantes `RAIZ_IDX, ESQ_IDX, DIR_IDX` representando os índices da lista onde se encontra o valor raíz, o nó a esquerda e o nó a direita.\n",
        "\n",
        "```\n",
        "# Representação visual da árvore\n",
        "       4\n",
        "      / \\\n",
        "     2   5\n",
        "    / \\\n",
        "   1   3\n",
        "```"
      ]
    },
    {
      "cell_type": "code",
      "execution_count": null,
      "id": "10df4831",
      "metadata": {
        "id": "10df4831"
      },
      "outputs": [],
      "source": [
        "RAIZ_IDX, ESQ_IDX, DIR_IDX = 0, 1, 2\n",
        "\n",
        "arvore = [\n",
        "    4,              # raíz, nível 0\n",
        "    [               # ramo da esquerda, nível 1\n",
        "        2,          # valor filho esquerda\n",
        "        [1, None, None],   # ramo da esquerda, nível 2\n",
        "        [3, None, None]    # ramo da direita, nível 2\n",
        "    ],\n",
        "    [               # ramo da direita, nível 1\n",
        "        5,          # valor filho da direita\n",
        "        None,              # ramo da esquerda, nível 2\n",
        "        None               # ramo da direita, nível 2\n",
        "    ]\n",
        "]"
      ]
    }
  ],
  "metadata": {
    "kernelspec": {
      "display_name": "Python 3 (ipykernel)",
      "language": "python",
      "name": "python3"
    },
    "language_info": {
      "codemirror_mode": {
        "name": "ipython",
        "version": 3
      },
      "file_extension": ".py",
      "mimetype": "text/x-python",
      "name": "python",
      "nbconvert_exporter": "python",
      "pygments_lexer": "ipython3",
      "version": "3.9.6"
    },
    "colab": {
      "provenance": []
    }
  },
  "nbformat": 4,
  "nbformat_minor": 5
}