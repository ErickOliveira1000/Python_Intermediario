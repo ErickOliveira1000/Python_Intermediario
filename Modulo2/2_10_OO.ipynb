{
  "cells": [
    {
      "cell_type": "markdown",
      "metadata": {
        "id": "9EIceKUbT8sE"
      },
      "source": [
        "> Projeto Desenvolve <br>\n",
        "Programação Intermediária com Python <br>\n",
        "Profa. Camila Laranjeira (mila@projetodesenvolve.com.br) <br>\n",
        "\n",
        "# 2.5 a 2.10 - Pilares da OO"
      ]
    },
    {
      "cell_type": "markdown",
      "metadata": {
        "id": "KM_FiDiyT8sG"
      },
      "source": [
        "## Exercícios\n",
        "\n",
        "#### Q1.\n",
        "Essa lista de exercícios terá como base a classe `Evento` criada em exercícios anteriores. Primeiramente criaremos a classe abstrata `EventoABC` com os métodos de instância abstratos `__str__(self)` e `isConcluido(self)`, indicando que todos as subclasses que dela herdarem devem implementar esses métodos.\n",
        "\n",
        "`EventoABC` também possui os atributos `_titulo` (string) e `_descricao` (string), cujos valores são recebidos e inicializados no construtor da classe. Note a convenção de nomenclatura indicando o caráter privado desses atributos."
      ]
    },
    {
      "cell_type": "code",
      "execution_count": null,
      "metadata": {
        "vscode": {
          "languageId": "plaintext"
        },
        "id": "jFH4o9wcT8sG"
      },
      "outputs": [],
      "source": [
        "#### Classe EventoABC\n",
        "from abc import ABC, abstractmethod\n",
        "\n",
        "class EventoABC(ABC):\n",
        "    def __init__(self, titulo: str, descricao: str):\n",
        "        self._titulo = titulo\n",
        "        self._descricao = descricao\n",
        "\n",
        "    @abstractmethod\n",
        "    def __str__(self):\n",
        "        pass\n",
        "\n",
        "    @abstractmethod\n",
        "    def isConcluido(self):\n",
        "        pass\n"
      ]
    },
    {
      "cell_type": "markdown",
      "metadata": {
        "vscode": {
          "languageId": "plaintext"
        },
        "id": "1Z_GmMcyT8sH"
      },
      "source": [
        "#### Q2.\n",
        "\n",
        "Crie a classe `DataHora` que dará suporte ao registro de eventos de calendário.\n",
        "* A classe possui o atributo de instância `_data_hora` (datetime) privado e um atributo de classe `FORMAT` inicializado com a formatação de string aceito para `_data_hora`, ou seja, `FORMAT = '%d/%m/%Y, %H:%M'`.\n",
        "* A classe **não possui construtor customizado**. A alteração de seu atributo se dará a partir da propriedade a seguir.\n",
        "* Crie a `property` `data_hora` para manipular o atributo `_data_hora`.\n",
        "    * O getter da propriedade deve retornar a data como uma string formatada (`%d/%m/%Y, %H:%M`). Use o atributo `FORMAT`. Consulte o [funcionamento do método `strftime`](https://www.programiz.com/python-programming/datetime/strftime).\n",
        "    * O setter da propriedade deve receber uma string de data formatada (`%d/%m/%Y, %H:%M`) e implementar um bloco try-except que tenta converter a string em `datetime` e lança um `ValueError` caso a entrada seja inválida. Use o atributo `FORMAT`. Consulte o [funcionamento do método `strptime`](https://www.digitalocean.com/community/tutorials/python-string-to-datetime-strptime).\n",
        "* Crie o método de instância `isPassado(self)` que avalia se a `_data_hora` é menor que `datetime.now()` (a data e hora atual) e retorna `True` em caso positivo, e `False` caso contrário.\n",
        "* Crie o método de instância `somaDias(self, num_dias)` que recebe um inteiro `num_dias`, soma esse valor ao atributo interno `_data_hora` e retorna a string formatada do resultado da soma (código dado a seguir).   \n",
        "```python\n",
        "data_hora_somada = self._data_hora + datetime.timedelta(days=num_dias)\n",
        "return data_hora_somada.strftime(FORMAT)\n",
        "```\n",
        "\n",
        "Teste a classe `DataHora` com o seguinte código (altere o que for necessário):\n",
        "```python\n",
        "# instanciando o objeto\n",
        "dh = DataHora()\n",
        "\n",
        "# definindo a data_hora através da propriedade\n",
        "dh.data_hora = '05/02/2024, 12:30'\n",
        "\n",
        "## editando a data_hora através da função somaDias\n",
        "dh.data_hora = dh.somaDias(30)\n",
        "\n",
        "## imprimindo a data_hora editada e se é passado\n",
        "print(dh.data_hora, dh.isPassado())\n",
        "```"
      ]
    },
    {
      "cell_type": "code",
      "execution_count": null,
      "metadata": {
        "vscode": {
          "languageId": "plaintext"
        },
        "colab": {
          "base_uri": "https://localhost:8080/"
        },
        "id": "HoP6G-hjT8sI",
        "outputId": "19fc82a5-9d92-4532-b489-d9f44c46873d"
      },
      "outputs": [
        {
          "output_type": "stream",
          "name": "stdout",
          "text": [
            "06/03/2024, 12:30 True\n"
          ]
        }
      ],
      "source": [
        "#### Classe DataHora\n",
        "from datetime import datetime, timedelta\n",
        "\n",
        "class DataHora:\n",
        "\n",
        "    FORMAT = '%d/%m/%Y, %H:%M'\n",
        "\n",
        "    def __init__(self):\n",
        "        # Atributo de instância _data_hora, inicia None\n",
        "        self._data_hora = None\n",
        "\n",
        "    # Property para manipular _data_hora\n",
        "    @property\n",
        "    def data_hora(self):\n",
        "        # Retorna a data formatada como string\n",
        "        return self._data_hora.strftime(self.FORMAT) if self._data_hora else None\n",
        "\n",
        "    @data_hora.setter\n",
        "    def data_hora(self, value):\n",
        "        try:\n",
        "\n",
        "            self._data_hora = datetime.strptime(value, self.FORMAT)\n",
        "        except ValueError:\n",
        "\n",
        "            raise ValueError(f\"Formato de data inválido. Use o formato {self.FORMAT}\")\n",
        "\n",
        "\n",
        "    def isPassado(self):\n",
        "        if self._data_hora:\n",
        "            return self._data_hora < datetime.now()\n",
        "        return False\n",
        "\n",
        "\n",
        "    def somaDias(self, num_dias):\n",
        "        if self._data_hora:\n",
        "            data_hora_somada = self._data_hora + timedelta(days=num_dias)\n",
        "            return data_hora_somada.strftime(self.FORMAT)\n",
        "        return None\n",
        "\n",
        "\n",
        "# Testando a classe DataHora\n",
        "\n",
        "dh = DataHora()\n",
        "\n",
        "# Definindo a data_hora\n",
        "dh.data_hora = '05/02/2024, 12:30'\n",
        "\n",
        "# Editando a data_hora\n",
        "dh.data_hora = dh.somaDias(30)\n",
        "\n",
        "# Imprimindo a data_hora\n",
        "print(dh.data_hora, dh.isPassado())\n"
      ]
    },
    {
      "cell_type": "markdown",
      "metadata": {
        "id": "j1PEg1j8T8sI"
      },
      "source": [
        "#### Q3.\n",
        "Crie a classe `EventoUnico`:\n",
        "* A classe deve herdar de `EventoABC`.\n",
        "* Possui o atributo de instância `_data_hora` (classe `DataHora` que criamos previamente).\n",
        "* Seu construtor deve receber e inicializar os atributos da superclasse, além do valor de `_data_hora` recebido como uma string formatada (`%d/%m/%Y, %H:%M`). Note que para alterar `_data_hora` (objeto tipo `DataHora`), você deve manipular a propriedade interna da classe.\n",
        "*  Implementa os métodos abstratos da superclasse:\n",
        "    * Método `isConcluido()` que invoca o método `isPassado()` de `_data_hora` e retorna o seu resultado.\n",
        "    * Método `__str__` que imprime os atributos do evento na forma `\"Evento: _titulo, Data: _data_hora, Descrição: _descricao, Concluido: isConcluido()\"`. Note que `isConcluido()` é o método de avaliação implementado.\n",
        "* Crie o método de instância `editar_data_hora` que recebe uma string formatada e altera `_data_hora` (através de sua propriedade interna).\n",
        "    \n",
        "    \n",
        "Teste a classe `EventoUnico` com o seguinte código:\n",
        "```python\n",
        "# criar evento\n",
        "evento = EventoUnico('Reunião', 'Sala 302, prédio da esquina', '05/10/2023, 16:30')\n",
        "print(evento)\n",
        "\n",
        "# editar data do evento (através da propriedade)\n",
        "evento.editar_data_hora('05/10/2024, 16:30')\n",
        "print(evento)\n",
        "```"
      ]
    },
    {
      "cell_type": "code",
      "execution_count": null,
      "metadata": {
        "vscode": {
          "languageId": "plaintext"
        },
        "colab": {
          "base_uri": "https://localhost:8080/"
        },
        "id": "uVvg7X8ZT8sI",
        "outputId": "2f34836e-ee30-4340-84f8-77626ba7e674"
      },
      "outputs": [
        {
          "output_type": "stream",
          "name": "stdout",
          "text": [
            "Evento: Reunião, Data: None, Descrição: Sala 302, prédio da esquina, Concluido: False\n",
            "Evento: Reunião, Data: None, Descrição: Sala 302, prédio da esquina, Concluido: False\n"
          ]
        }
      ],
      "source": [
        "#### Classe EventoUnico\n",
        "\n",
        "\n",
        "from abc import ABC, abstractmethod\n",
        "from datetime import datetime\n",
        "\n",
        "# Supondo que a classe DataHora já esteja definida conforme anterior\n",
        "class EventoUnico(EventoABC):\n",
        "    def __init__(self, titulo: str, descricao: str, data_hora: str):\n",
        "        # Inicializando os atributos da superclasse\n",
        "        super().__init__(titulo, descricao)\n",
        "        # Inicializando o atributo _data_hora (instância de DataHora)\n",
        "        self._data_hora = DataHora()\n",
        "        # Definindo a data_hora através da propriedade\n",
        "        self.data_hora = data_hora\n",
        "\n",
        "    # Implementando o método isConcluido() da superclasse\n",
        "    def isConcluido(self):\n",
        "        return self._data_hora.isPassado()\n",
        "\n",
        "    # Implementando o método __str__() da superclasse\n",
        "    def __str__(self):\n",
        "        return f\"Evento: {self._titulo}, Data: {self._data_hora.data_hora}, Descrição: {self._descricao}, Concluido: {self.isConcluido()}\"\n",
        "\n",
        "    # Método de instância para editar a data_hora\n",
        "    def editar_data_hora(self, nova_data_hora: str):\n",
        "        self.data_hora = nova_data_hora  # Usando a propriedade para alterar a data_hora\n",
        "\n",
        "\n",
        "# Testando a classe EventoUnico\n",
        "\n",
        "# Criar evento\n",
        "evento = EventoUnico('Reunião', 'Sala 302, prédio da esquina', '05/10/2023, 16:30')\n",
        "print(evento)\n",
        "\n",
        "# Editar data do evento (através da propriedade)\n",
        "evento.editar_data_hora('05/10/2024, 16:30')\n",
        "print(evento)\n"
      ]
    },
    {
      "cell_type": "markdown",
      "metadata": {
        "id": "NPIbSLR0T8sI"
      },
      "source": [
        "#### Q3.\n",
        "Crie a classe `EventoRecorrente`:\n",
        "* A classe deve herdar de `EventoABC`.\n",
        "* Possui como atributo próprio uma lista privada de objetos `DataHora` (como você deve nomear o atributo?).\n",
        "* Seu construtor recebe os atributos da superclasse, além dos atributos `data_hora_inicial` (string formatada), `data_hora_final` (string formatada) e `intervalo_repeticao` (int), sendo o intervalo dado em dias. Preencha a coleção `DataHora` de acordo com o intervalo de repetição fornecido. Dica: crie o objeto `DataHora` inicial e use sua função interna `somaDias` para criar iterativamente as novas instâncias do intervalo até chegar em `DataHora` final.\n",
        "*  Implementa os métodos abstratos da superclasse:\n",
        "    * Método `isConcluido(indice)` que que invoca o método `isPassado()` do elemento `indice` da coleção de objetos `DataHora` e retorna seu resultado.\n",
        "    * Método `__str__` que imprime (em um laço) **todos as ocorrências `i` do evento** na forma `\"Evento: _titulo, Data: data_hora[i], Descrição: _descricao, Concluido: isConcluido(i)\"`.\n",
        "* Crie o método `editar_data_hora` que recebe `data_hora_antiga` e `data_hora_nova` e altera o elemento da coleção de objetos `DataHora` que corresponde a `data_hora_antiga` fornecida.    \n",
        "\n",
        "\n",
        "Teste a classe `EventoRecorrente` com o seguinte código:\n",
        "```python\n",
        "# criar evento\n",
        "eventos = EventoRecorrente(\n",
        "    'Reunião', 'Sala 302, prédio da esquina',\n",
        "    '05/01/2024, 16:30', '05/01/2025, 16:30', 30)\n",
        "\n",
        "# imprimir eventos\n",
        "print(eventos)\n",
        "\n",
        "# editar um dos eventos\n",
        "eventos.editar_data_hora('05/12/2024, 16:30', '05/12/2024, 11:30')\n",
        "\n",
        "# imprimir eventos\n",
        "print(eventos)\n",
        "```"
      ]
    },
    {
      "cell_type": "code",
      "execution_count": null,
      "metadata": {
        "vscode": {
          "languageId": "plaintext"
        },
        "colab": {
          "base_uri": "https://localhost:8080/"
        },
        "id": "bW18vxS8T8sI",
        "outputId": "5a53e923-b70f-4312-e56f-b6b96514e026"
      },
      "outputs": [
        {
          "output_type": "stream",
          "name": "stdout",
          "text": [
            "Evento: Reunião, Data: 30/12/2024, 16:30, Descrição: Sala 302, prédio da esquina, Concluido: True\n",
            "Evento: Reunião, Data: 04/02/2024, 16:30, Descrição: Sala 302, prédio da esquina, Concluido: True\n",
            "Evento: Reunião, Data: 05/03/2024, 16:30, Descrição: Sala 302, prédio da esquina, Concluido: True\n",
            "Evento: Reunião, Data: 04/04/2024, 16:30, Descrição: Sala 302, prédio da esquina, Concluido: True\n",
            "Evento: Reunião, Data: 04/05/2024, 16:30, Descrição: Sala 302, prédio da esquina, Concluido: True\n",
            "Evento: Reunião, Data: 03/06/2024, 16:30, Descrição: Sala 302, prédio da esquina, Concluido: True\n",
            "Evento: Reunião, Data: 03/07/2024, 16:30, Descrição: Sala 302, prédio da esquina, Concluido: True\n",
            "Evento: Reunião, Data: 02/08/2024, 16:30, Descrição: Sala 302, prédio da esquina, Concluido: True\n",
            "Evento: Reunião, Data: 01/09/2024, 16:30, Descrição: Sala 302, prédio da esquina, Concluido: True\n",
            "Evento: Reunião, Data: 01/10/2024, 16:30, Descrição: Sala 302, prédio da esquina, Concluido: True\n",
            "Evento: Reunião, Data: 31/10/2024, 16:30, Descrição: Sala 302, prédio da esquina, Concluido: True\n",
            "Evento: Reunião, Data: 30/11/2024, 16:30, Descrição: Sala 302, prédio da esquina, Concluido: True\n",
            "Evento: Reunião, Data: 30/12/2024, 16:30, Descrição: Sala 302, prédio da esquina, Concluido: True\n",
            "\n",
            "Evento: Reunião, Data: 30/12/2024, 16:30, Descrição: Sala 302, prédio da esquina, Concluido: True\n",
            "Evento: Reunião, Data: 04/02/2024, 16:30, Descrição: Sala 302, prédio da esquina, Concluido: True\n",
            "Evento: Reunião, Data: 05/03/2024, 16:30, Descrição: Sala 302, prédio da esquina, Concluido: True\n",
            "Evento: Reunião, Data: 04/04/2024, 16:30, Descrição: Sala 302, prédio da esquina, Concluido: True\n",
            "Evento: Reunião, Data: 04/05/2024, 16:30, Descrição: Sala 302, prédio da esquina, Concluido: True\n",
            "Evento: Reunião, Data: 03/06/2024, 16:30, Descrição: Sala 302, prédio da esquina, Concluido: True\n",
            "Evento: Reunião, Data: 03/07/2024, 16:30, Descrição: Sala 302, prédio da esquina, Concluido: True\n",
            "Evento: Reunião, Data: 02/08/2024, 16:30, Descrição: Sala 302, prédio da esquina, Concluido: True\n",
            "Evento: Reunião, Data: 01/09/2024, 16:30, Descrição: Sala 302, prédio da esquina, Concluido: True\n",
            "Evento: Reunião, Data: 01/10/2024, 16:30, Descrição: Sala 302, prédio da esquina, Concluido: True\n",
            "Evento: Reunião, Data: 31/10/2024, 16:30, Descrição: Sala 302, prédio da esquina, Concluido: True\n",
            "Evento: Reunião, Data: 30/11/2024, 16:30, Descrição: Sala 302, prédio da esquina, Concluido: True\n",
            "Evento: Reunião, Data: 30/12/2024, 16:30, Descrição: Sala 302, prédio da esquina, Concluido: True\n",
            "\n"
          ]
        }
      ],
      "source": [
        "from datetime import datetime\n",
        "\n",
        "class EventoRecorrente(EventoABC):\n",
        "    def __init__(self, titulo: str, descricao: str, data_hora_inicial: str, data_hora_final: str, intervalo_repeticao: int):\n",
        "        # Inicializando os atributos da superclasse\n",
        "        super().__init__(titulo, descricao)\n",
        "        # Inicializando o atributo de lista privada de DataHora\n",
        "        self._datas_hora = []\n",
        "\n",
        "        # Criando o objeto DataHora para a data inicial\n",
        "        data_inicial = DataHora()\n",
        "        data_inicial.data_hora = data_hora_inicial\n",
        "        # Adicionando a data inicial à lista de datas\n",
        "        self._datas_hora.append(data_inicial)\n",
        "\n",
        "        # Criando as outras instâncias de DataHora com base no intervalo\n",
        "        data_atual = data_inicial\n",
        "        while True:\n",
        "            # Somando o intervalo de dias à data atual\n",
        "            nova_data = data_atual.somaDias(intervalo_repeticao)\n",
        "            if datetime.strptime(nova_data, \"%d/%m/%Y, %H:%M\") > datetime.strptime(data_hora_final, \"%d/%m/%Y, %H:%M\"):\n",
        "                break\n",
        "            # Criando o objeto DataHora para a nova data\n",
        "            nova_data_hora = DataHora()\n",
        "            nova_data_hora.data_hora = nova_data\n",
        "            self._datas_hora.append(nova_data_hora)\n",
        "            # Atualizando a data_atual para a nova data\n",
        "            data_atual.data_hora = nova_data\n",
        "\n",
        "    def isConcluido(self, indice: int):\n",
        "        # Verificando se a data do evento já passou, usando o método isPassado()\n",
        "        return self._datas_hora[indice].isPassado()\n",
        "\n",
        "    def __str__(self):\n",
        "        evento_str = ''\n",
        "        for i, data_hora in enumerate(self._datas_hora):\n",
        "            evento_str += f\"Evento: {self._titulo}, Data: {data_hora.data_hora}, Descrição: {self._descricao}, Concluido: {self.isConcluido(i)}\\n\"\n",
        "        return evento_str\n",
        "\n",
        "    def editar_data_hora(self, data_hora_antiga: str, data_hora_nova: str):\n",
        "        for data_hora in self._datas_hora:\n",
        "            if data_hora.data_hora == data_hora_antiga:\n",
        "                data_hora.data_hora = data_hora_nova\n",
        "                break\n",
        "\n",
        "\n",
        "# Teste da classe EventoRecorrente\n",
        "\n",
        "# Criando o evento recorrente\n",
        "eventos = EventoRecorrente(\n",
        "    'Reunião', 'Sala 302, prédio da esquina',\n",
        "    '05/01/2024, 16:30', '05/01/2025, 16:30', 30)\n",
        "\n",
        "# Imprimindo os eventos\n",
        "print(eventos)\n",
        "\n",
        "# Editando um dos eventos\n",
        "eventos.editar_data_hora('05/12/2024, 16:30', '05/12/2024, 11:30')\n",
        "\n",
        "# Imprimindo os eventos após a edição\n",
        "print(eventos)\n"
      ]
    },
    {
      "cell_type": "markdown",
      "metadata": {
        "id": "3Eo8wn3uT8sJ"
      },
      "source": [
        "#### Q4.\n",
        "\n",
        "Por fim, vamos só ver o polimorfismo em ação. Crie e preencha uma lista de eventos, sendo alguns do tipo `EventoUnico` e outros do tipo `EventoRecorrente`. Sobre essa lista, execute o laço de impressão a seguir:\n",
        "```python\n",
        "for evento in lista_eventos: print(evento)\n",
        "```\n",
        "A função `print` irá invocar o método especial `__str__` das classes correspondentes dependendo do tipo do objeto recebido. Aí está o polimorfismo :)"
      ]
    },
    {
      "cell_type": "code",
      "execution_count": null,
      "metadata": {
        "vscode": {
          "languageId": "plaintext"
        },
        "colab": {
          "base_uri": "https://localhost:8080/"
        },
        "id": "Kr7baBDIT8sJ",
        "outputId": "d4e402be-d80c-479b-aa02-a6f975e1908d"
      },
      "outputs": [
        {
          "output_type": "stream",
          "name": "stdout",
          "text": [
            "Evento: Reunião, Data: None, Descrição: Sala 302, prédio da esquina, Concluido: False\n",
            "Evento: Treinamento, Data: 29/11/2023, 09:00, Descrição: Sala 101, prédio principal, Concluido: True\n",
            "Evento: Treinamento, Data: 08/11/2023, 09:00, Descrição: Sala 101, prédio principal, Concluido: True\n",
            "Evento: Treinamento, Data: 15/11/2023, 09:00, Descrição: Sala 101, prédio principal, Concluido: True\n",
            "Evento: Treinamento, Data: 22/11/2023, 09:00, Descrição: Sala 101, prédio principal, Concluido: True\n",
            "Evento: Treinamento, Data: 29/11/2023, 09:00, Descrição: Sala 101, prédio principal, Concluido: True\n",
            "\n",
            "Evento: Almoço, Data: None, Descrição: Refeitório, prédio B, Concluido: False\n",
            "Evento: Workshop, Data: 14/02/2024, 14:00, Descrição: Auditório, prédio C, Concluido: True\n",
            "Evento: Workshop, Data: 30/01/2024, 14:00, Descrição: Auditório, prédio C, Concluido: True\n",
            "Evento: Workshop, Data: 14/02/2024, 14:00, Descrição: Auditório, prédio C, Concluido: True\n",
            "\n"
          ]
        }
      ],
      "source": [
        "# Criando a lista de eventos\n",
        "lista_eventos = [\n",
        "    EventoUnico('Reunião', 'Sala 302, prédio da esquina', '05/10/2023, 16:30'),\n",
        "    EventoRecorrente(\n",
        "        'Treinamento', 'Sala 101, prédio principal',\n",
        "        '01/11/2023, 09:00', '01/12/2023, 09:00', 7),\n",
        "    EventoUnico('Almoço', 'Refeitório, prédio B', '10/11/2023, 12:00'),\n",
        "    EventoRecorrente(\n",
        "        'Workshop', 'Auditório, prédio C',\n",
        "        '15/01/2024, 14:00', '15/02/2024, 14:00', 15)\n",
        "]\n",
        "\n",
        "# Laço para imprimir os eventos\n",
        "for evento in lista_eventos:\n",
        "    print(evento)\n"
      ]
    }
  ],
  "metadata": {
    "language_info": {
      "name": "python"
    },
    "colab": {
      "provenance": []
    },
    "kernelspec": {
      "name": "python3",
      "display_name": "Python 3"
    }
  },
  "nbformat": 4,
  "nbformat_minor": 0
}