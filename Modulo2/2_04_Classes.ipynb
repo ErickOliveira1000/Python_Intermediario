{
  "cells": [
    {
      "cell_type": "markdown",
      "metadata": {
        "id": "XkqrROAP4-E6"
      },
      "source": [
        "> Projeto Desenvolve <br>\n",
        "Programação Intermediária com Python <br>\n",
        "Profa. Camila Laranjeira (mila@projetodesenvolve.com.br) <br>\n",
        "\n",
        "# 2.4 - Classes, atributos e métodos"
      ]
    },
    {
      "cell_type": "markdown",
      "metadata": {
        "id": "3F5ua76r4-E-"
      },
      "source": [
        "## Exercícios\n",
        "\n",
        "#### Q1.\n",
        "Vamos criar aos pouquinhos uma classe Evento que registra eventos de um calendário. Pra começar, nessa questão você deve:\n",
        "\n",
        "* Criar uma classe chamada Evento\n",
        "* Adicionar um atributo de classe `total_eventos` que será usado para contar o número total de eventos (instâncias de classe) criadas.\n",
        "* Implemente o método construtor que deve receber os parâmetros `titulo` (`string`), `data_hora` (`datetime`), `descrição` (`string`). Crie e inicialize um atributo de instância para cada um dos parâmetros citados.\n",
        "* O construtor também deve inicializar um atributo de instância `is_concluido = False`. Esse atributo será utilizado mais à frente.\n",
        "* No construtor você também deve incrementar o atributo de classe `total_eventos` em 1 a cada nova instância criada.\n",
        "\n",
        "Teste o seu código criando duas diferentes instâncias de evento (preencha os atributos como quiser) e imprimindo todos os seus atributos (de classe e de instância).\n",
        "\n",
        "> Consulte [este tutorial biblioteca `datetime`](https://www.w3schools.com/python/python_datetime.asp) caso não esteja familiarizado."
      ]
    },
    {
      "cell_type": "code",
      "execution_count": null,
      "metadata": {
        "vscode": {
          "languageId": "plaintext"
        },
        "colab": {
          "base_uri": "https://localhost:8080/"
        },
        "id": "TfnzI-bT4-FA",
        "outputId": "5c7f5e42-e003-46f8-ec70-801a78f77fd4"
      },
      "outputs": [
        {
          "output_type": "stream",
          "name": "stdout",
          "text": [
            "Evento: Reunião de Projeto, Data e Hora: 2025-04-20 14:00:00, Descrição: Discussão sobre o andamento do projeto., Concluído: False\n",
            "Total de eventos: 2\n",
            "\n",
            "Evento: Festa de Aniversário, Data e Hora: 2025-05-01 19:00:00, Descrição: Celebração de aniversário com amigos., Concluído: False\n",
            "Total de eventos: 2\n"
          ]
        }
      ],
      "source": [
        "from datetime import datetime\n",
        "\n",
        "class Evento:\n",
        "    # Atributo de classe para contar o total de eventos\n",
        "    total_eventos = 0\n",
        "\n",
        "    def __init__(self, titulo, data_hora, descricao):\n",
        "        # Atributos de instância\n",
        "        self.titulo = titulo\n",
        "        self.data_hora = data_hora\n",
        "        self.descricao = descricao\n",
        "        self.is_concluido = False\n",
        "\n",
        "        # Incrementando o contador de eventos\n",
        "        Evento.total_eventos += 1\n",
        "\n",
        "    def __str__(self):\n",
        "        # Método para representar os atributos do evento\n",
        "        return f\"Evento: {self.titulo}, Data e Hora: {self.data_hora}, Descrição: {self.descricao}, Concluído: {self.is_concluido}\"\n",
        "\n",
        "# Testando a classe\n",
        "evento1 = Evento(\"Reunião de Projeto\", datetime(2025, 4, 20, 14, 0), \"Discussão sobre o andamento do projeto.\")\n",
        "evento2 = Evento(\"Festa de Aniversário\", datetime(2025, 5, 1, 19, 0), \"Celebração de aniversário com amigos.\")\n",
        "\n",
        "# Imprimindo os detalhes dos eventos\n",
        "print(evento1)\n",
        "print(f\"Total de eventos: {Evento.total_eventos}\")\n",
        "print()\n",
        "print(evento2)\n",
        "print(f\"Total de eventos: {Evento.total_eventos}\")\n"
      ]
    },
    {
      "cell_type": "markdown",
      "metadata": {
        "id": "M-Re541u4-FB"
      },
      "source": [
        "#### Q2.\n",
        "Agora vamos adicionar métodos à nossa classe. Lembre dos diferentes decoradores que aprendemos. Você deve redefinir a classe com os seguintes métodos:\n",
        "* Um método `isConcluido()` que avalia se a `data_hora` do evento é menor que `datetime.now()` (a data e hora atual). Em caso positivo, atualiza o atributo de instância `is_concluido` para o valor `True`.\n",
        "* Um método de classe `num_eventos()` que retorna o valor do atributo de classe `total_eventos`.\n",
        "* Um método estático `valida_evento(nome, data_hora, descricao)` que recebe os atributos de um evento e testa os tipos de cada variável, retornando `True` caso todos estejam corretos e `False` caso contrário. Para o teste, use a função nativa do Python [`isinstance`](https://www.w3schools.com/python/ref_func_isinstance.asp).\n",
        "\n",
        "Para testar sua classe atualizada:\n",
        "* Crie uma instância de Evento com valor passado e chame o método `isConcluido()` para a instância criada. Em seguida imprima o atributo `is_concluido`.\n",
        "* Invoque o método de classe `num_eventos()` a partir da classe Evento (ou seja, sem criar nenhuma instância).\n",
        "* Chame o método estático `valida_evento()` a partir da classe Evento. Experimente passar valores corretos e incorretos.\n"
      ]
    },
    {
      "cell_type": "code",
      "execution_count": null,
      "metadata": {
        "vscode": {
          "languageId": "plaintext"
        },
        "colab": {
          "base_uri": "https://localhost:8080/"
        },
        "id": "uLZLi_YZ4-FB",
        "outputId": "467ca9bd-7cd3-44b4-bdda-42725700cd97"
      },
      "outputs": [
        {
          "output_type": "stream",
          "name": "stdout",
          "text": [
            "Evento 1 concluído? False\n",
            "Status de conclusão do Evento 1: False\n",
            "Total de eventos: 1\n",
            "True\n",
            "False\n"
          ]
        }
      ],
      "source": [
        "from datetime import datetime\n",
        "\n",
        "class Evento:\n",
        "    # Atributo de classe para contar o total de eventos\n",
        "    total_eventos = 0\n",
        "\n",
        "    def __init__(self, titulo, data_hora, descricao):\n",
        "        # Atributos de instância\n",
        "        self.titulo = titulo\n",
        "        self.data_hora = data_hora\n",
        "        self.descricao = descricao\n",
        "        self.is_concluido = False\n",
        "\n",
        "        # Incrementando o contador de eventos\n",
        "        Evento.total_eventos += 1\n",
        "\n",
        "    def __str__(self):\n",
        "        # Método para representar os atributos do evento\n",
        "        return f\"Evento: {self.titulo}, Data e Hora: {self.data_hora}, Descrição: {self.descricao}, Concluído: {self.is_concluido}\"\n",
        "\n",
        "    # Método de instância: verifica se o evento já foi concluído\n",
        "    def isConcluido(self):\n",
        "        if self.data_hora < datetime.now():\n",
        "            self.is_concluido = True\n",
        "        return self.is_concluido\n",
        "\n",
        "    # Método de classe: retorna o número total de eventos\n",
        "    @classmethod\n",
        "    def num_eventos(cls):\n",
        "        return cls.total_eventos\n",
        "\n",
        "    # Método estático: valida os dados de um evento\n",
        "    @staticmethod\n",
        "    def valida_evento(nome, data_hora, descricao):\n",
        "        if isinstance(nome, str) and isinstance(data_hora, datetime) and isinstance(descricao, str):\n",
        "            return True\n",
        "        return False\n",
        "\n",
        "# Testando a classe atualizada\n",
        "\n",
        "# Criando uma instância de evento\n",
        "evento1 = Evento(\"Reunião de Projeto\", datetime(2025, 4, 20, 14, 0), \"Discussão sobre o andamento do projeto.\")\n",
        "\n",
        "# Chamando o método isConcluido para a instância\n",
        "print(f\"Evento 1 concluído? {evento1.isConcluido()}\")  # Vai retornar False, pois a data está no futuro\n",
        "print(f\"Status de conclusão do Evento 1: {evento1.is_concluido}\")\n",
        "\n",
        "# Invocando o método de classe num_eventos\n",
        "print(f\"Total de eventos: {Evento.num_eventos()}\")\n",
        "\n",
        "# Chamando o método estático valida_evento com valores corretos e incorretos\n",
        "print(Evento.valida_evento(\"Festa\", datetime(2025, 5, 1, 19, 0), \"Celebração de aniversário\"))  # True\n",
        "print(Evento.valida_evento(\"Festa\", \"2025-05-01\", \"Celebração de aniversário\"))  # False (data incorreta)\n"
      ]
    },
    {
      "cell_type": "markdown",
      "metadata": {
        "vscode": {
          "languageId": "plaintext"
        },
        "id": "zDPRukhy4-FB"
      },
      "source": [
        "#### Q3.\n",
        "\n",
        "Vamos incluir métodos mágicos! ✨🪄🔮\n",
        "\n",
        "Redefina a classe incluindo\":\n",
        "* Método `__str__` que imprime os atributos do evento na forma `\"Evento: titulo, Data: data_hora, Descrição: descricao, Concluido: is_concluido\"`.\n",
        "* Implemente os métodos de comparação `__eq__`, `__ne__`, `__lt__`, `__le__`, `__gt__` e `__ge__` para comparar eventos baseados no atributo `data_hora`. Esses métodos devem comparar duas instâncias de Evento e retornar os resultados apropriados (`True` ou `False`).\n",
        "\n",
        "Para testar, crie duas instâncias de Evento com datas diferentes. Imprima as instâncias com a função `print()` e apresente o resultado das comparações entre eventos (`==`, `!=`, `<`, `<=`, `>`, `>=`)."
      ]
    },
    {
      "cell_type": "code",
      "execution_count": null,
      "metadata": {
        "vscode": {
          "languageId": "plaintext"
        },
        "colab": {
          "base_uri": "https://localhost:8080/"
        },
        "id": "DwikxE_04-FB",
        "outputId": "35f33502-0d43-400e-f071-96c9fb01d18d"
      },
      "outputs": [
        {
          "output_type": "stream",
          "name": "stdout",
          "text": [
            "Evento: Reunião de Projeto, Data: 2025-04-20 14:00:00, Descrição: Discussão sobre o andamento do projeto., Concluído: False\n",
            "Evento: Festa de Aniversário, Data: 2025-05-01 19:00:00, Descrição: Celebração de aniversário com amigos., Concluído: False\n",
            "Evento 1 == Evento 2: False\n",
            "Evento 1 != Evento 2: True\n",
            "Evento 1 < Evento 2: True\n",
            "Evento 1 <= Evento 2: True\n",
            "Evento 1 > Evento 2: False\n",
            "Evento 1 >= Evento 2: False\n"
          ]
        }
      ],
      "source": [
        "from datetime import datetime\n",
        "\n",
        "class Evento:\n",
        "    # Atributo de classe para contar o total de eventos\n",
        "    total_eventos = 0\n",
        "\n",
        "    def __init__(self, titulo, data_hora, descricao):\n",
        "        # Atributos de instância\n",
        "        self.titulo = titulo\n",
        "        self.data_hora = data_hora\n",
        "        self.descricao = descricao\n",
        "        self.is_concluido = False\n",
        "\n",
        "        # Incrementando o contador de eventos\n",
        "        Evento.total_eventos += 1\n",
        "\n",
        "    # Método para representar os atributos de forma mais legível\n",
        "    def __str__(self):\n",
        "        return f\"Evento: {self.titulo}, Data: {self.data_hora}, Descrição: {self.descricao}, Concluído: {self.is_concluido}\"\n",
        "\n",
        "    # Método de instância: verifica se o evento já foi concluído\n",
        "    def isConcluido(self):\n",
        "        if self.data_hora < datetime.now():\n",
        "            self.is_concluido = True\n",
        "        return self.is_concluido\n",
        "\n",
        "    # Método de classe: retorna o número total de eventos\n",
        "    @classmethod\n",
        "    def num_eventos(cls):\n",
        "        return cls.total_eventos\n",
        "\n",
        "    # Método estático: valida os dados de um evento\n",
        "    @staticmethod\n",
        "    def valida_evento(nome, data_hora, descricao):\n",
        "        if isinstance(nome, str) and isinstance(data_hora, datetime) and isinstance(descricao, str):\n",
        "            return True\n",
        "        return False\n",
        "\n",
        "    # Métodos mágicos para comparação entre eventos com base na data_hora\n",
        "\n",
        "    def __eq__(self, other):\n",
        "        return self.data_hora == other.data_hora\n",
        "\n",
        "    def __ne__(self, other):\n",
        "        return self.data_hora != other.data_hora\n",
        "\n",
        "    def __lt__(self, other):\n",
        "        return self.data_hora < other.data_hora\n",
        "\n",
        "    def __le__(self, other):\n",
        "        return self.data_hora <= other.data_hora\n",
        "\n",
        "    def __gt__(self, other):\n",
        "        return self.data_hora > other.data_hora\n",
        "\n",
        "    def __ge__(self, other):\n",
        "        return self.data_hora >= other.data_hora\n",
        "\n",
        "\n",
        "# Testando a classe com os métodos mágicos\n",
        "\n",
        "# Criando duas instâncias de evento com datas diferentes\n",
        "evento1 = Evento(\"Reunião de Projeto\", datetime(2025, 4, 20, 14, 0), \"Discussão sobre o andamento do projeto.\")\n",
        "evento2 = Evento(\"Festa de Aniversário\", datetime(2025, 5, 1, 19, 0), \"Celebração de aniversário com amigos.\")\n",
        "\n",
        "# Imprimindo os eventos\n",
        "print(evento1)  # Usando __str__\n",
        "print(evento2)\n",
        "\n",
        "# Comparações entre eventos\n",
        "print(f\"Evento 1 == Evento 2: {evento1 == evento2}\")\n",
        "print(f\"Evento 1 != Evento 2: {evento1 != evento2}\")\n",
        "print(f\"Evento 1 < Evento 2: {evento1 < evento2}\")\n",
        "print(f\"Evento 1 <= Evento 2: {evento1 <= evento2}\")\n",
        "print(f\"Evento 1 > Evento 2: {evento1 > evento2}\")\n",
        "print(f\"Evento 1 >= Evento 2: {evento1 >= evento2}\")\n"
      ]
    }
  ],
  "metadata": {
    "language_info": {
      "name": "python"
    },
    "colab": {
      "provenance": []
    },
    "kernelspec": {
      "name": "python3",
      "display_name": "Python 3"
    }
  },
  "nbformat": 4,
  "nbformat_minor": 0
}