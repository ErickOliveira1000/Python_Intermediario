{
  "cells": [
    {
      "cell_type": "markdown",
      "metadata": {
        "id": "Da7YulXLEM1M"
      },
      "source": [
        "## Exercícios\n",
        "\n",
        "> Retirados de [learn-python: sqlalchemy_orm-questions](https://aviadr1.github.io/learn-advanced-python/11_db_access/exercise/sqlalchemy_orm-questions.html).\n",
        "\n",
        "#### Q1.\n",
        "\n",
        "Baixa e extraia o arquivo compactado com o banco de dados [Chinook database](https://www.sqlitetutorial.net/sqlite-sample-database/). Salve o arquivo `chinook.db` na mesma pasta deste script.\n",
        "* Link para baixar: http://www.sqlitetutorial.net/wp-content/uploads/2018/03/chinook.zip\n",
        "\n",
        "<img width=500 src=https://www.sqlitetutorial.net/wp-content/uploads/2015/11/sqlite-sample-database-color.jpg>\n"
      ]
    },
    {
      "cell_type": "code",
      "source": [
        "from google.colab import files\n",
        "\n",
        "uploaded = files.upload()\n"
      ],
      "metadata": {
        "colab": {
          "base_uri": "https://localhost:8080/",
          "height": 73
        },
        "id": "T46gYGiTG2Ap",
        "outputId": "15428a88-48ca-4d4d-d84a-ae21792bedf8"
      },
      "execution_count": 1,
      "outputs": [
        {
          "output_type": "display_data",
          "data": {
            "text/plain": [
              "<IPython.core.display.HTML object>"
            ],
            "text/html": [
              "\n",
              "     <input type=\"file\" id=\"files-e70e0de1-9477-4b06-a1bb-f3749b95db6d\" name=\"files[]\" multiple disabled\n",
              "        style=\"border:none\" />\n",
              "     <output id=\"result-e70e0de1-9477-4b06-a1bb-f3749b95db6d\">\n",
              "      Upload widget is only available when the cell has been executed in the\n",
              "      current browser session. Please rerun this cell to enable.\n",
              "      </output>\n",
              "      <script>// Copyright 2017 Google LLC\n",
              "//\n",
              "// Licensed under the Apache License, Version 2.0 (the \"License\");\n",
              "// you may not use this file except in compliance with the License.\n",
              "// You may obtain a copy of the License at\n",
              "//\n",
              "//      http://www.apache.org/licenses/LICENSE-2.0\n",
              "//\n",
              "// Unless required by applicable law or agreed to in writing, software\n",
              "// distributed under the License is distributed on an \"AS IS\" BASIS,\n",
              "// WITHOUT WARRANTIES OR CONDITIONS OF ANY KIND, either express or implied.\n",
              "// See the License for the specific language governing permissions and\n",
              "// limitations under the License.\n",
              "\n",
              "/**\n",
              " * @fileoverview Helpers for google.colab Python module.\n",
              " */\n",
              "(function(scope) {\n",
              "function span(text, styleAttributes = {}) {\n",
              "  const element = document.createElement('span');\n",
              "  element.textContent = text;\n",
              "  for (const key of Object.keys(styleAttributes)) {\n",
              "    element.style[key] = styleAttributes[key];\n",
              "  }\n",
              "  return element;\n",
              "}\n",
              "\n",
              "// Max number of bytes which will be uploaded at a time.\n",
              "const MAX_PAYLOAD_SIZE = 100 * 1024;\n",
              "\n",
              "function _uploadFiles(inputId, outputId) {\n",
              "  const steps = uploadFilesStep(inputId, outputId);\n",
              "  const outputElement = document.getElementById(outputId);\n",
              "  // Cache steps on the outputElement to make it available for the next call\n",
              "  // to uploadFilesContinue from Python.\n",
              "  outputElement.steps = steps;\n",
              "\n",
              "  return _uploadFilesContinue(outputId);\n",
              "}\n",
              "\n",
              "// This is roughly an async generator (not supported in the browser yet),\n",
              "// where there are multiple asynchronous steps and the Python side is going\n",
              "// to poll for completion of each step.\n",
              "// This uses a Promise to block the python side on completion of each step,\n",
              "// then passes the result of the previous step as the input to the next step.\n",
              "function _uploadFilesContinue(outputId) {\n",
              "  const outputElement = document.getElementById(outputId);\n",
              "  const steps = outputElement.steps;\n",
              "\n",
              "  const next = steps.next(outputElement.lastPromiseValue);\n",
              "  return Promise.resolve(next.value.promise).then((value) => {\n",
              "    // Cache the last promise value to make it available to the next\n",
              "    // step of the generator.\n",
              "    outputElement.lastPromiseValue = value;\n",
              "    return next.value.response;\n",
              "  });\n",
              "}\n",
              "\n",
              "/**\n",
              " * Generator function which is called between each async step of the upload\n",
              " * process.\n",
              " * @param {string} inputId Element ID of the input file picker element.\n",
              " * @param {string} outputId Element ID of the output display.\n",
              " * @return {!Iterable<!Object>} Iterable of next steps.\n",
              " */\n",
              "function* uploadFilesStep(inputId, outputId) {\n",
              "  const inputElement = document.getElementById(inputId);\n",
              "  inputElement.disabled = false;\n",
              "\n",
              "  const outputElement = document.getElementById(outputId);\n",
              "  outputElement.innerHTML = '';\n",
              "\n",
              "  const pickedPromise = new Promise((resolve) => {\n",
              "    inputElement.addEventListener('change', (e) => {\n",
              "      resolve(e.target.files);\n",
              "    });\n",
              "  });\n",
              "\n",
              "  const cancel = document.createElement('button');\n",
              "  inputElement.parentElement.appendChild(cancel);\n",
              "  cancel.textContent = 'Cancel upload';\n",
              "  const cancelPromise = new Promise((resolve) => {\n",
              "    cancel.onclick = () => {\n",
              "      resolve(null);\n",
              "    };\n",
              "  });\n",
              "\n",
              "  // Wait for the user to pick the files.\n",
              "  const files = yield {\n",
              "    promise: Promise.race([pickedPromise, cancelPromise]),\n",
              "    response: {\n",
              "      action: 'starting',\n",
              "    }\n",
              "  };\n",
              "\n",
              "  cancel.remove();\n",
              "\n",
              "  // Disable the input element since further picks are not allowed.\n",
              "  inputElement.disabled = true;\n",
              "\n",
              "  if (!files) {\n",
              "    return {\n",
              "      response: {\n",
              "        action: 'complete',\n",
              "      }\n",
              "    };\n",
              "  }\n",
              "\n",
              "  for (const file of files) {\n",
              "    const li = document.createElement('li');\n",
              "    li.append(span(file.name, {fontWeight: 'bold'}));\n",
              "    li.append(span(\n",
              "        `(${file.type || 'n/a'}) - ${file.size} bytes, ` +\n",
              "        `last modified: ${\n",
              "            file.lastModifiedDate ? file.lastModifiedDate.toLocaleDateString() :\n",
              "                                    'n/a'} - `));\n",
              "    const percent = span('0% done');\n",
              "    li.appendChild(percent);\n",
              "\n",
              "    outputElement.appendChild(li);\n",
              "\n",
              "    const fileDataPromise = new Promise((resolve) => {\n",
              "      const reader = new FileReader();\n",
              "      reader.onload = (e) => {\n",
              "        resolve(e.target.result);\n",
              "      };\n",
              "      reader.readAsArrayBuffer(file);\n",
              "    });\n",
              "    // Wait for the data to be ready.\n",
              "    let fileData = yield {\n",
              "      promise: fileDataPromise,\n",
              "      response: {\n",
              "        action: 'continue',\n",
              "      }\n",
              "    };\n",
              "\n",
              "    // Use a chunked sending to avoid message size limits. See b/62115660.\n",
              "    let position = 0;\n",
              "    do {\n",
              "      const length = Math.min(fileData.byteLength - position, MAX_PAYLOAD_SIZE);\n",
              "      const chunk = new Uint8Array(fileData, position, length);\n",
              "      position += length;\n",
              "\n",
              "      const base64 = btoa(String.fromCharCode.apply(null, chunk));\n",
              "      yield {\n",
              "        response: {\n",
              "          action: 'append',\n",
              "          file: file.name,\n",
              "          data: base64,\n",
              "        },\n",
              "      };\n",
              "\n",
              "      let percentDone = fileData.byteLength === 0 ?\n",
              "          100 :\n",
              "          Math.round((position / fileData.byteLength) * 100);\n",
              "      percent.textContent = `${percentDone}% done`;\n",
              "\n",
              "    } while (position < fileData.byteLength);\n",
              "  }\n",
              "\n",
              "  // All done.\n",
              "  yield {\n",
              "    response: {\n",
              "      action: 'complete',\n",
              "    }\n",
              "  };\n",
              "}\n",
              "\n",
              "scope.google = scope.google || {};\n",
              "scope.google.colab = scope.google.colab || {};\n",
              "scope.google.colab._files = {\n",
              "  _uploadFiles,\n",
              "  _uploadFilesContinue,\n",
              "};\n",
              "})(self);\n",
              "</script> "
            ]
          },
          "metadata": {}
        },
        {
          "output_type": "stream",
          "name": "stdout",
          "text": [
            "Saving chinook.db to chinook.db\n"
          ]
        }
      ]
    },
    {
      "cell_type": "code",
      "source": [
        "from sqlalchemy import create_engine, MetaData\n",
        "\n",
        "# Conectando com o banco chinook.db\n",
        "engine = create_engine('sqlite:///chinook.db')\n"
      ],
      "metadata": {
        "id": "OJnqVrjoK7TA"
      },
      "execution_count": 2,
      "outputs": []
    },
    {
      "cell_type": "code",
      "source": [
        "metadata = MetaData()\n",
        "metadata.reflect(bind=engine)  # Lê todas as tabelas do banco\n"
      ],
      "metadata": {
        "id": "mmERhKKqK8zn"
      },
      "execution_count": 3,
      "outputs": []
    },
    {
      "cell_type": "code",
      "source": [
        "# conferindo o nome das tabelas\n",
        "print(metadata.tables.keys())"
      ],
      "metadata": {
        "colab": {
          "base_uri": "https://localhost:8080/"
        },
        "id": "_i4jd6EALaNA",
        "outputId": "ce6adb15-d75a-42f7-cd41-2fc8fb859102"
      },
      "execution_count": 5,
      "outputs": [
        {
          "output_type": "stream",
          "name": "stdout",
          "text": [
            "dict_keys(['albums', 'artists', 'customers', 'employees', 'genres', 'invoice_items', 'tracks', 'media_types', 'invoices', 'playlist_track', 'playlists'])\n"
          ]
        }
      ]
    },
    {
      "cell_type": "code",
      "source": [
        "from sqlalchemy import select\n",
        "\n",
        "artist_table = metadata.tables['artists']\n",
        "# Consulta: selecionar todos os artistas\n",
        "stmt = select(artist_table)\n",
        "with engine.connect() as conn:\n",
        "    result = conn.execute(stmt)\n",
        "    for row in result:\n",
        "        print(row)\n"
      ],
      "metadata": {
        "colab": {
          "base_uri": "https://localhost:8080/"
        },
        "id": "-OiLnypYLCYY",
        "outputId": "acae3691-2dde-4486-ffbb-0a1020da0da8"
      },
      "execution_count": 18,
      "outputs": [
        {
          "output_type": "stream",
          "name": "stdout",
          "text": [
            "(1, 'AC/DC')\n",
            "(2, 'Accept')\n",
            "(3, 'Aerosmith')\n",
            "(4, 'Alanis Morissette')\n",
            "(5, 'Alice In Chains')\n",
            "(6, 'Antônio Carlos Jobim')\n",
            "(7, 'Apocalyptica')\n",
            "(8, 'Audioslave')\n",
            "(9, 'BackBeat')\n",
            "(10, 'Billy Cobham')\n",
            "(11, 'Black Label Society')\n",
            "(12, 'Black Sabbath')\n",
            "(13, 'Body Count')\n",
            "(14, 'Bruce Dickinson')\n",
            "(15, 'Buddy Guy')\n",
            "(16, 'Caetano Veloso')\n",
            "(17, 'Chico Buarque')\n",
            "(18, 'Chico Science & Nação Zumbi')\n",
            "(19, 'Cidade Negra')\n",
            "(20, 'Cláudio Zoli')\n",
            "(21, 'Various Artists')\n",
            "(22, 'Led Zeppelin')\n",
            "(23, 'Frank Zappa & Captain Beefheart')\n",
            "(24, 'Marcos Valle')\n",
            "(25, 'Milton Nascimento & Bebeto')\n",
            "(26, 'Azymuth')\n",
            "(27, 'Gilberto Gil')\n",
            "(28, 'João Gilberto')\n",
            "(29, 'Bebel Gilberto')\n",
            "(30, 'Jorge Vercilo')\n",
            "(31, 'Baby Consuelo')\n",
            "(32, 'Ney Matogrosso')\n",
            "(33, 'Luiz Melodia')\n",
            "(34, 'Nando Reis')\n",
            "(35, 'Pedro Luís & A Parede')\n",
            "(36, 'O Rappa')\n",
            "(37, 'Ed Motta')\n",
            "(38, 'Banda Black Rio')\n",
            "(39, 'Fernanda Porto')\n",
            "(40, 'Os Cariocas')\n",
            "(41, 'Elis Regina')\n",
            "(42, 'Milton Nascimento')\n",
            "(43, 'A Cor Do Som')\n",
            "(44, 'Kid Abelha')\n",
            "(45, 'Sandra De Sá')\n",
            "(46, 'Jorge Ben')\n",
            "(47, 'Hermeto Pascoal')\n",
            "(48, 'Barão Vermelho')\n",
            "(49, 'Edson, DJ Marky & DJ Patife Featuring Fernanda Porto')\n",
            "(50, 'Metallica')\n",
            "(51, 'Queen')\n",
            "(52, 'Kiss')\n",
            "(53, 'Spyro Gyra')\n",
            "(54, 'Green Day')\n",
            "(55, 'David Coverdale')\n",
            "(56, 'Gonzaguinha')\n",
            "(57, 'Os Mutantes')\n",
            "(58, 'Deep Purple')\n",
            "(59, 'Santana')\n",
            "(60, 'Santana Feat. Dave Matthews')\n",
            "(61, 'Santana Feat. Everlast')\n",
            "(62, 'Santana Feat. Rob Thomas')\n",
            "(63, 'Santana Feat. Lauryn Hill & Cee-Lo')\n",
            "(64, 'Santana Feat. The Project G&B')\n",
            "(65, 'Santana Feat. Maná')\n",
            "(66, 'Santana Feat. Eagle-Eye Cherry')\n",
            "(67, 'Santana Feat. Eric Clapton')\n",
            "(68, 'Miles Davis')\n",
            "(69, 'Gene Krupa')\n",
            "(70, 'Toquinho & Vinícius')\n",
            "(71, 'Vinícius De Moraes & Baden Powell')\n",
            "(72, 'Vinícius De Moraes')\n",
            "(73, 'Vinícius E Qurteto Em Cy')\n",
            "(74, 'Vinícius E Odette Lara')\n",
            "(75, 'Vinicius, Toquinho & Quarteto Em Cy')\n",
            "(76, 'Creedence Clearwater Revival')\n",
            "(77, 'Cássia Eller')\n",
            "(78, 'Def Leppard')\n",
            "(79, 'Dennis Chambers')\n",
            "(80, 'Djavan')\n",
            "(81, 'Eric Clapton')\n",
            "(82, 'Faith No More')\n",
            "(83, 'Falamansa')\n",
            "(84, 'Foo Fighters')\n",
            "(85, 'Frank Sinatra')\n",
            "(86, 'Funk Como Le Gusta')\n",
            "(87, 'Godsmack')\n",
            "(88, \"Guns N' Roses\")\n",
            "(89, 'Incognito')\n",
            "(90, 'Iron Maiden')\n",
            "(91, 'James Brown')\n",
            "(92, 'Jamiroquai')\n",
            "(93, 'JET')\n",
            "(94, 'Jimi Hendrix')\n",
            "(95, 'Joe Satriani')\n",
            "(96, 'Jota Quest')\n",
            "(97, 'João Suplicy')\n",
            "(98, 'Judas Priest')\n",
            "(99, 'Legião Urbana')\n",
            "(100, 'Lenny Kravitz')\n",
            "(101, 'Lulu Santos')\n",
            "(102, 'Marillion')\n",
            "(103, 'Marisa Monte')\n",
            "(104, 'Marvin Gaye')\n",
            "(105, 'Men At Work')\n",
            "(106, 'Motörhead')\n",
            "(107, 'Motörhead & Girlschool')\n",
            "(108, 'Mônica Marianno')\n",
            "(109, 'Mötley Crüe')\n",
            "(110, 'Nirvana')\n",
            "(111, 'O Terço')\n",
            "(112, 'Olodum')\n",
            "(113, 'Os Paralamas Do Sucesso')\n",
            "(114, 'Ozzy Osbourne')\n",
            "(115, 'Page & Plant')\n",
            "(116, 'Passengers')\n",
            "(117, \"Paul D'Ianno\")\n",
            "(118, 'Pearl Jam')\n",
            "(119, 'Peter Tosh')\n",
            "(120, 'Pink Floyd')\n",
            "(121, 'Planet Hemp')\n",
            "(122, 'R.E.M. Feat. Kate Pearson')\n",
            "(123, 'R.E.M. Feat. KRS-One')\n",
            "(124, 'R.E.M.')\n",
            "(125, 'Raimundos')\n",
            "(126, 'Raul Seixas')\n",
            "(127, 'Red Hot Chili Peppers')\n",
            "(128, 'Rush')\n",
            "(129, 'Simply Red')\n",
            "(130, 'Skank')\n",
            "(131, 'Smashing Pumpkins')\n",
            "(132, 'Soundgarden')\n",
            "(133, 'Stevie Ray Vaughan & Double Trouble')\n",
            "(134, 'Stone Temple Pilots')\n",
            "(135, 'System Of A Down')\n",
            "(136, 'Terry Bozzio, Tony Levin & Steve Stevens')\n",
            "(137, 'The Black Crowes')\n",
            "(138, 'The Clash')\n",
            "(139, 'The Cult')\n",
            "(140, 'The Doors')\n",
            "(141, 'The Police')\n",
            "(142, 'The Rolling Stones')\n",
            "(143, 'The Tea Party')\n",
            "(144, 'The Who')\n",
            "(145, 'Tim Maia')\n",
            "(146, 'Titãs')\n",
            "(147, 'Battlestar Galactica')\n",
            "(148, 'Heroes')\n",
            "(149, 'Lost')\n",
            "(150, 'U2')\n",
            "(151, 'UB40')\n",
            "(152, 'Van Halen')\n",
            "(153, 'Velvet Revolver')\n",
            "(154, 'Whitesnake')\n",
            "(155, 'Zeca Pagodinho')\n",
            "(156, 'The Office')\n",
            "(157, 'Dread Zeppelin')\n",
            "(158, 'Battlestar Galactica (Classic)')\n",
            "(159, 'Aquaman')\n",
            "(160, 'Christina Aguilera featuring BigElf')\n",
            "(161, \"Aerosmith & Sierra Leone's Refugee Allstars\")\n",
            "(162, 'Los Lonely Boys')\n",
            "(163, 'Corinne Bailey Rae')\n",
            "(164, 'Dhani Harrison & Jakob Dylan')\n",
            "(165, 'Jackson Browne')\n",
            "(166, 'Avril Lavigne')\n",
            "(167, 'Big & Rich')\n",
            "(168, \"Youssou N'Dour\")\n",
            "(169, 'Black Eyed Peas')\n",
            "(170, 'Jack Johnson')\n",
            "(171, 'Ben Harper')\n",
            "(172, 'Snow Patrol')\n",
            "(173, 'Matisyahu')\n",
            "(174, 'The Postal Service')\n",
            "(175, 'Jaguares')\n",
            "(176, 'The Flaming Lips')\n",
            "(177, \"Jack's Mannequin & Mick Fleetwood\")\n",
            "(178, 'Regina Spektor')\n",
            "(179, 'Scorpions')\n",
            "(180, 'House Of Pain')\n",
            "(181, 'Xis')\n",
            "(182, 'Nega Gizza')\n",
            "(183, 'Gustavo & Andres Veiga & Salazar')\n",
            "(184, 'Rodox')\n",
            "(185, 'Charlie Brown Jr.')\n",
            "(186, 'Pedro Luís E A Parede')\n",
            "(187, 'Los Hermanos')\n",
            "(188, 'Mundo Livre S/A')\n",
            "(189, 'Otto')\n",
            "(190, 'Instituto')\n",
            "(191, 'Nação Zumbi')\n",
            "(192, 'DJ Dolores & Orchestra Santa Massa')\n",
            "(193, 'Seu Jorge')\n",
            "(194, 'Sabotage E Instituto')\n",
            "(195, 'Stereo Maracana')\n",
            "(196, 'Cake')\n",
            "(197, 'Aisha Duo')\n",
            "(198, 'Habib Koité and Bamada')\n",
            "(199, 'Karsh Kale')\n",
            "(200, 'The Posies')\n",
            "(201, 'Luciana Souza/Romero Lubambo')\n",
            "(202, 'Aaron Goldberg')\n",
            "(203, 'Nicolaus Esterhazy Sinfonia')\n",
            "(204, 'Temple of the Dog')\n",
            "(205, 'Chris Cornell')\n",
            "(206, 'Alberto Turco & Nova Schola Gregoriana')\n",
            "(207, 'Richard Marlow & The Choir of Trinity College, Cambridge')\n",
            "(208, 'English Concert & Trevor Pinnock')\n",
            "(209, 'Anne-Sophie Mutter, Herbert Von Karajan & Wiener Philharmoniker')\n",
            "(210, 'Hilary Hahn, Jeffrey Kahane, Los Angeles Chamber Orchestra & Margaret Batjer')\n",
            "(211, 'Wilhelm Kempff')\n",
            "(212, 'Yo-Yo Ma')\n",
            "(213, 'Scholars Baroque Ensemble')\n",
            "(214, 'Academy of St. Martin in the Fields & Sir Neville Marriner')\n",
            "(215, 'Academy of St. Martin in the Fields Chamber Ensemble & Sir Neville Marriner')\n",
            "(216, 'Berliner Philharmoniker, Claudio Abbado & Sabine Meyer')\n",
            "(217, 'Royal Philharmonic Orchestra & Sir Thomas Beecham')\n",
            "(218, 'Orchestre Révolutionnaire et Romantique & John Eliot Gardiner')\n",
            "(219, 'Britten Sinfonia, Ivor Bolton & Lesley Garrett')\n",
            "(220, 'Chicago Symphony Chorus, Chicago Symphony Orchestra & Sir Georg Solti')\n",
            "(221, 'Sir Georg Solti & Wiener Philharmoniker')\n",
            "(222, 'Academy of St. Martin in the Fields, John Birch, Sir Neville Marriner & Sylvia McNair')\n",
            "(223, 'London Symphony Orchestra & Sir Charles Mackerras')\n",
            "(224, 'Barry Wordsworth & BBC Concert Orchestra')\n",
            "(225, 'Herbert Von Karajan, Mirella Freni & Wiener Philharmoniker')\n",
            "(226, 'Eugene Ormandy')\n",
            "(227, 'Luciano Pavarotti')\n",
            "(228, 'Leonard Bernstein & New York Philharmonic')\n",
            "(229, 'Boston Symphony Orchestra & Seiji Ozawa')\n",
            "(230, 'Aaron Copland & London Symphony Orchestra')\n",
            "(231, 'Ton Koopman')\n",
            "(232, 'Sergei Prokofiev & Yuri Temirkanov')\n",
            "(233, 'Chicago Symphony Orchestra & Fritz Reiner')\n",
            "(234, 'Orchestra of The Age of Enlightenment')\n",
            "(235, 'Emanuel Ax, Eugene Ormandy & Philadelphia Orchestra')\n",
            "(236, 'James Levine')\n",
            "(237, 'Berliner Philharmoniker & Hans Rosbaud')\n",
            "(238, 'Maurizio Pollini')\n",
            "(239, 'Academy of St. Martin in the Fields, Sir Neville Marriner & William Bennett')\n",
            "(240, 'Gustav Mahler')\n",
            "(241, 'Felix Schmidt, London Symphony Orchestra & Rafael Frühbeck de Burgos')\n",
            "(242, 'Edo de Waart & San Francisco Symphony')\n",
            "(243, 'Antal Doráti & London Symphony Orchestra')\n",
            "(244, 'Choir Of Westminster Abbey & Simon Preston')\n",
            "(245, 'Michael Tilson Thomas & San Francisco Symphony')\n",
            "(246, 'Chor der Wiener Staatsoper, Herbert Von Karajan & Wiener Philharmoniker')\n",
            "(247, \"The King's Singers\")\n",
            "(248, 'Berliner Philharmoniker & Herbert Von Karajan')\n",
            "(249, 'Sir Georg Solti, Sumi Jo & Wiener Philharmoniker')\n",
            "(250, \"Christopher O'Riley\")\n",
            "(251, 'Fretwork')\n",
            "(252, 'Amy Winehouse')\n",
            "(253, 'Calexico')\n",
            "(254, 'Otto Klemperer & Philharmonia Orchestra')\n",
            "(255, 'Yehudi Menuhin')\n",
            "(256, 'Philharmonia Orchestra & Sir Neville Marriner')\n",
            "(257, 'Academy of St. Martin in the Fields, Sir Neville Marriner & Thurston Dart')\n",
            "(258, 'Les Arts Florissants & William Christie')\n",
            "(259, 'The 12 Cellists of The Berlin Philharmonic')\n",
            "(260, 'Adrian Leaper & Doreen de Feis')\n",
            "(261, 'Roger Norrington, London Classical Players')\n",
            "(262, \"Charles Dutoit & L'Orchestre Symphonique de Montréal\")\n",
            "(263, 'Equale Brass Ensemble, John Eliot Gardiner & Munich Monteverdi Orchestra and Choir')\n",
            "(264, \"Kent Nagano and Orchestre de l'Opéra de Lyon\")\n",
            "(265, 'Julian Bream')\n",
            "(266, 'Martin Roscoe')\n",
            "(267, 'Göteborgs Symfoniker & Neeme Järvi')\n",
            "(268, 'Itzhak Perlman')\n",
            "(269, 'Michele Campanella')\n",
            "(270, 'Gerald Moore')\n",
            "(271, 'Mela Tenenbaum, Pro Musica Prague & Richard Kapp')\n",
            "(272, 'Emerson String Quartet')\n",
            "(273, 'C. Monteverdi, Nigel Rogers - Chiaroscuro; London Baroque; London Cornett & Sackbu')\n",
            "(274, 'Nash Ensemble')\n",
            "(275, 'Philip Glass Ensemble')\n"
          ]
        }
      ]
    },
    {
      "cell_type": "markdown",
      "metadata": {
        "id": "XBCt1gQREM1O"
      },
      "source": [
        "#### Q2.\n",
        "\n",
        "Leia o código e os comentários das células a seguir para entender como acessamos os modelos ORM de um banco já existente."
      ]
    },
    {
      "cell_type": "code",
      "execution_count": 19,
      "metadata": {
        "vscode": {
          "languageId": "plaintext"
        },
        "colab": {
          "base_uri": "https://localhost:8080/"
        },
        "id": "WidC-s4oEM1O",
        "outputId": "9e3027cb-09d7-4a42-92d5-458b45ff181c"
      },
      "outputs": [
        {
          "output_type": "stream",
          "name": "stdout",
          "text": [
            "albums\n",
            "['AlbumId', 'Title', 'ArtistId']\n",
            "[('AlbumId', Column('AlbumId', INTEGER(), table=<albums>, primary_key=True, nullable=False)), ('Title', Column('Title', NVARCHAR(length=160), table=<albums>, nullable=False)), ('ArtistId', Column('ArtistId', INTEGER(), ForeignKey('artists.ArtistId'), table=<albums>, nullable=False))]\n",
            "-------------------------\n",
            "artists\n",
            "['ArtistId', 'Name']\n",
            "[('ArtistId', Column('ArtistId', INTEGER(), table=<artists>, primary_key=True, nullable=False)), ('Name', Column('Name', NVARCHAR(length=120), table=<artists>))]\n",
            "-------------------------\n",
            "customers\n",
            "['CustomerId', 'FirstName', 'LastName', 'Company', 'Address', 'City', 'State', 'Country', 'PostalCode', 'Phone', 'Fax', 'Email', 'SupportRepId']\n",
            "[('CustomerId', Column('CustomerId', INTEGER(), table=<customers>, primary_key=True, nullable=False)), ('FirstName', Column('FirstName', NVARCHAR(length=40), table=<customers>, nullable=False)), ('LastName', Column('LastName', NVARCHAR(length=20), table=<customers>, nullable=False)), ('Company', Column('Company', NVARCHAR(length=80), table=<customers>)), ('Address', Column('Address', NVARCHAR(length=70), table=<customers>)), ('City', Column('City', NVARCHAR(length=40), table=<customers>)), ('State', Column('State', NVARCHAR(length=40), table=<customers>)), ('Country', Column('Country', NVARCHAR(length=40), table=<customers>)), ('PostalCode', Column('PostalCode', NVARCHAR(length=10), table=<customers>)), ('Phone', Column('Phone', NVARCHAR(length=24), table=<customers>)), ('Fax', Column('Fax', NVARCHAR(length=24), table=<customers>)), ('Email', Column('Email', NVARCHAR(length=60), table=<customers>, nullable=False)), ('SupportRepId', Column('SupportRepId', INTEGER(), ForeignKey('employees.EmployeeId'), table=<customers>))]\n",
            "-------------------------\n",
            "employees\n",
            "['EmployeeId', 'LastName', 'FirstName', 'Title', 'ReportsTo', 'BirthDate', 'HireDate', 'Address', 'City', 'State', 'Country', 'PostalCode', 'Phone', 'Fax', 'Email']\n",
            "[('EmployeeId', Column('EmployeeId', INTEGER(), table=<employees>, primary_key=True, nullable=False)), ('LastName', Column('LastName', NVARCHAR(length=20), table=<employees>, nullable=False)), ('FirstName', Column('FirstName', NVARCHAR(length=20), table=<employees>, nullable=False)), ('Title', Column('Title', NVARCHAR(length=30), table=<employees>)), ('ReportsTo', Column('ReportsTo', INTEGER(), ForeignKey('employees.EmployeeId'), table=<employees>)), ('BirthDate', Column('BirthDate', DATETIME(), table=<employees>)), ('HireDate', Column('HireDate', DATETIME(), table=<employees>)), ('Address', Column('Address', NVARCHAR(length=70), table=<employees>)), ('City', Column('City', NVARCHAR(length=40), table=<employees>)), ('State', Column('State', NVARCHAR(length=40), table=<employees>)), ('Country', Column('Country', NVARCHAR(length=40), table=<employees>)), ('PostalCode', Column('PostalCode', NVARCHAR(length=10), table=<employees>)), ('Phone', Column('Phone', NVARCHAR(length=24), table=<employees>)), ('Fax', Column('Fax', NVARCHAR(length=24), table=<employees>)), ('Email', Column('Email', NVARCHAR(length=60), table=<employees>))]\n",
            "-------------------------\n",
            "genres\n",
            "['GenreId', 'Name']\n",
            "[('GenreId', Column('GenreId', INTEGER(), table=<genres>, primary_key=True, nullable=False)), ('Name', Column('Name', NVARCHAR(length=120), table=<genres>))]\n",
            "-------------------------\n",
            "invoice_items\n",
            "['InvoiceLineId', 'InvoiceId', 'TrackId', 'UnitPrice', 'Quantity']\n",
            "[('InvoiceLineId', Column('InvoiceLineId', INTEGER(), table=<invoice_items>, primary_key=True, nullable=False)), ('InvoiceId', Column('InvoiceId', INTEGER(), ForeignKey('invoices.InvoiceId'), table=<invoice_items>, nullable=False)), ('TrackId', Column('TrackId', INTEGER(), ForeignKey('tracks.TrackId'), table=<invoice_items>, nullable=False)), ('UnitPrice', Column('UnitPrice', NUMERIC(precision=10, scale=2), table=<invoice_items>, nullable=False)), ('Quantity', Column('Quantity', INTEGER(), table=<invoice_items>, nullable=False))]\n",
            "-------------------------\n",
            "tracks\n",
            "['TrackId', 'Name', 'AlbumId', 'MediaTypeId', 'GenreId', 'Composer', 'Milliseconds', 'Bytes', 'UnitPrice']\n",
            "[('TrackId', Column('TrackId', INTEGER(), table=<tracks>, primary_key=True, nullable=False)), ('Name', Column('Name', NVARCHAR(length=200), table=<tracks>, nullable=False)), ('AlbumId', Column('AlbumId', INTEGER(), ForeignKey('albums.AlbumId'), table=<tracks>)), ('MediaTypeId', Column('MediaTypeId', INTEGER(), ForeignKey('media_types.MediaTypeId'), table=<tracks>, nullable=False)), ('GenreId', Column('GenreId', INTEGER(), ForeignKey('genres.GenreId'), table=<tracks>)), ('Composer', Column('Composer', NVARCHAR(length=220), table=<tracks>)), ('Milliseconds', Column('Milliseconds', INTEGER(), table=<tracks>, nullable=False)), ('Bytes', Column('Bytes', INTEGER(), table=<tracks>)), ('UnitPrice', Column('UnitPrice', NUMERIC(precision=10, scale=2), table=<tracks>, nullable=False))]\n",
            "-------------------------\n",
            "media_types\n",
            "['MediaTypeId', 'Name']\n",
            "[('MediaTypeId', Column('MediaTypeId', INTEGER(), table=<media_types>, primary_key=True, nullable=False)), ('Name', Column('Name', NVARCHAR(length=120), table=<media_types>))]\n",
            "-------------------------\n",
            "invoices\n",
            "['InvoiceId', 'CustomerId', 'InvoiceDate', 'BillingAddress', 'BillingCity', 'BillingState', 'BillingCountry', 'BillingPostalCode', 'Total']\n",
            "[('InvoiceId', Column('InvoiceId', INTEGER(), table=<invoices>, primary_key=True, nullable=False)), ('CustomerId', Column('CustomerId', INTEGER(), ForeignKey('customers.CustomerId'), table=<invoices>, nullable=False)), ('InvoiceDate', Column('InvoiceDate', DATETIME(), table=<invoices>, nullable=False)), ('BillingAddress', Column('BillingAddress', NVARCHAR(length=70), table=<invoices>)), ('BillingCity', Column('BillingCity', NVARCHAR(length=40), table=<invoices>)), ('BillingState', Column('BillingState', NVARCHAR(length=40), table=<invoices>)), ('BillingCountry', Column('BillingCountry', NVARCHAR(length=40), table=<invoices>)), ('BillingPostalCode', Column('BillingPostalCode', NVARCHAR(length=10), table=<invoices>)), ('Total', Column('Total', NUMERIC(precision=10, scale=2), table=<invoices>, nullable=False))]\n",
            "-------------------------\n",
            "playlist_track\n",
            "['PlaylistId', 'TrackId']\n",
            "[('PlaylistId', Column('PlaylistId', INTEGER(), ForeignKey('playlists.PlaylistId'), table=<playlist_track>, primary_key=True, nullable=False)), ('TrackId', Column('TrackId', INTEGER(), ForeignKey('tracks.TrackId'), table=<playlist_track>, primary_key=True, nullable=False))]\n",
            "-------------------------\n",
            "playlists\n",
            "['PlaylistId', 'Name']\n",
            "[('PlaylistId', Column('PlaylistId', INTEGER(), table=<playlists>, primary_key=True, nullable=False)), ('Name', Column('Name', NVARCHAR(length=120), table=<playlists>))]\n",
            "-------------------------\n",
            "[('albums', <class 'sqlalchemy.ext.automap.albums'>), ('invoice_items', <class 'sqlalchemy.ext.automap.invoice_items'>), ('customers', <class 'sqlalchemy.ext.automap.customers'>), ('genres', <class 'sqlalchemy.ext.automap.genres'>), ('employees', <class 'sqlalchemy.ext.automap.employees'>), ('media_types', <class 'sqlalchemy.ext.automap.media_types'>), ('playlists', <class 'sqlalchemy.ext.automap.playlists'>), ('invoices', <class 'sqlalchemy.ext.automap.invoices'>), ('tracks', <class 'sqlalchemy.ext.automap.tracks'>), ('artists', <class 'sqlalchemy.ext.automap.artists'>)]\n"
          ]
        }
      ],
      "source": [
        "from sqlalchemy import create_engine, text, MetaData\n",
        "from sqlalchemy.orm import Session\n",
        "\n",
        "engine = create_engine(\"sqlite+pysqlite:///chinook.db\", echo=False)\n",
        "\n",
        "### extrai as classes da base de dados Chinook\n",
        "metadata = MetaData()\n",
        "metadata.reflect(engine)\n",
        "\n",
        "for table_name, table in metadata.tables.items():\n",
        "    print(table_name)\n",
        "    print(table.columns.keys())\n",
        "    print(table.columns.items())\n",
        "    print('-'*25)\n",
        "\n",
        "### configura o objeto Base mapeando os modelos ORM das tabelas\n",
        "from sqlalchemy.ext.automap import automap_base\n",
        "Base = automap_base(metadata=metadata)\n",
        "Base.prepare()\n",
        "\n",
        "print(Base.classes.items())"
      ]
    },
    {
      "cell_type": "code",
      "execution_count": 20,
      "metadata": {
        "vscode": {
          "languageId": "plaintext"
        },
        "id": "Mb3qNT7zEM1P",
        "colab": {
          "base_uri": "https://localhost:8080/"
        },
        "outputId": "d0bcce51-cab7-4972-dac4-1e919fb97082"
      },
      "outputs": [
        {
          "output_type": "stream",
          "name": "stdout",
          "text": [
            "1 For Those About To Rock We Salute You\n"
          ]
        }
      ],
      "source": [
        "# A seguir um exemplo de query na tabela Albums\n",
        "# usamos o objeto Base para acessar cada modelo ORM.\n",
        "\n",
        "session = Session(engine)\n",
        "res = session.scalars(select(Base.classes.albums))\n",
        "first_album = res.first()\n",
        "print(first_album.AlbumId, first_album.Title)"
      ]
    },
    {
      "cell_type": "markdown",
      "metadata": {
        "id": "Eet60x0ZEM1P"
      },
      "source": [
        "#### Q3.\n",
        "Com base nos códigos anteriores realize as operações solicitadas nas células a seguir:\n"
      ]
    },
    {
      "cell_type": "code",
      "execution_count": 21,
      "metadata": {
        "vscode": {
          "languageId": "plaintext"
        },
        "colab": {
          "base_uri": "https://localhost:8080/"
        },
        "id": "7PYkNt8tEM1P",
        "outputId": "c06f392f-6118-42f1-f593-7b555b3528f2"
      },
      "outputs": [
        {
          "output_type": "stream",
          "name": "stdout",
          "text": [
            "1 For Those About To Rock (We Salute You) 1\n",
            "2 Balls to the Wall 2\n",
            "3 Fast As a Shark 3\n"
          ]
        }
      ],
      "source": [
        "### Imprima os três primeiros registros da tabela tracks\n",
        "from sqlalchemy.orm import Session\n",
        "from sqlalchemy import select\n",
        "\n",
        "session = Session(engine)\n",
        "Track = Base.classes.tracks\n",
        "result = session.execute(select(Track).limit(3)).scalars().all()\n",
        "for track in result:\n",
        "    print(track.TrackId, track.Name, track.AlbumId)"
      ]
    },
    {
      "cell_type": "code",
      "execution_count": 22,
      "metadata": {
        "vscode": {
          "languageId": "plaintext"
        },
        "id": "MMn6xJ-_EM1P",
        "colab": {
          "base_uri": "https://localhost:8080/"
        },
        "outputId": "cc26fbc6-229a-469e-d486-32e5f3018bbd"
      },
      "outputs": [
        {
          "output_type": "stream",
          "name": "stdout",
          "text": [
            "Faixa: For Those About To Rock (We Salute You) | Álbum: For Those About To Rock We Salute You\n",
            "Faixa: Put The Finger On You | Álbum: For Those About To Rock We Salute You\n",
            "Faixa: Let's Get It Up | Álbum: For Those About To Rock We Salute You\n",
            "Faixa: Inject The Venom | Álbum: For Those About To Rock We Salute You\n",
            "Faixa: Snowballed | Álbum: For Those About To Rock We Salute You\n",
            "Faixa: Evil Walks | Álbum: For Those About To Rock We Salute You\n",
            "Faixa: C.O.D. | Álbum: For Those About To Rock We Salute You\n",
            "Faixa: Breaking The Rules | Álbum: For Those About To Rock We Salute You\n",
            "Faixa: Night Of The Long Knives | Álbum: For Those About To Rock We Salute You\n",
            "Faixa: Spellbound | Álbum: For Those About To Rock We Salute You\n",
            "Faixa: Balls to the Wall | Álbum: Balls to the Wall\n",
            "Faixa: Fast As a Shark | Álbum: Restless and Wild\n",
            "Faixa: Restless and Wild | Álbum: Restless and Wild\n",
            "Faixa: Princess of the Dawn | Álbum: Restless and Wild\n",
            "Faixa: Go Down | Álbum: Let There Be Rock\n",
            "Faixa: Dog Eat Dog | Álbum: Let There Be Rock\n",
            "Faixa: Let There Be Rock | Álbum: Let There Be Rock\n",
            "Faixa: Bad Boy Boogie | Álbum: Let There Be Rock\n",
            "Faixa: Problem Child | Álbum: Let There Be Rock\n",
            "Faixa: Overdose | Álbum: Let There Be Rock\n"
          ]
        }
      ],
      "source": [
        "### Imprima o nome da faixa e o título do álbum das primeiras 20 faixas na tabela tracks.\n",
        "from sqlalchemy import select\n",
        "from sqlalchemy.orm import Session\n",
        "\n",
        "session = Session(engine)\n",
        "Track = Base.classes.tracks\n",
        "Album = Base.classes.albums\n",
        "\n",
        "stmt = (\n",
        "    select(Track.Name, Album.Title)\n",
        "    .join(Album, Track.AlbumId == Album.AlbumId)\n",
        "    .limit(20)\n",
        ")\n",
        "\n",
        "results = session.execute(stmt).all()\n",
        "for name, title in results:\n",
        "    print(f\"Faixa: {name} | Álbum: {title}\")\n"
      ]
    },
    {
      "cell_type": "code",
      "execution_count": 23,
      "metadata": {
        "vscode": {
          "languageId": "plaintext"
        },
        "id": "P90dymV1EM1P",
        "colab": {
          "base_uri": "https://localhost:8080/"
        },
        "outputId": "1bb8b6ba-2ca3-41e1-9b1f-dbdb41b78534"
      },
      "outputs": [
        {
          "output_type": "stream",
          "name": "stdout",
          "text": [
            "Faixa: Balls to the Wall | Quantidade vendida: 1\n",
            "Faixa: Restless and Wild | Quantidade vendida: 1\n",
            "Faixa: Put The Finger On You | Quantidade vendida: 1\n",
            "Faixa: Inject The Venom | Quantidade vendida: 1\n",
            "Faixa: Evil Walks | Quantidade vendida: 1\n",
            "Faixa: Breaking The Rules | Quantidade vendida: 1\n",
            "Faixa: Dog Eat Dog | Quantidade vendida: 1\n",
            "Faixa: Overdose | Quantidade vendida: 1\n",
            "Faixa: Love In An Elevator | Quantidade vendida: 1\n",
            "Faixa: Janie's Got A Gun | Quantidade vendida: 1\n"
          ]
        }
      ],
      "source": [
        "### Imprima as 10 primeiras vendas de faixas da tabela invoice_items\n",
        "### Para essas 10 primeiras vendas, imprima os nomes das faixas vendidas e a quantidade vendida.\n",
        "from sqlalchemy import select\n",
        "from sqlalchemy.orm import Session\n",
        "\n",
        "session = Session(engine)\n",
        "InvoiceItem = Base.classes.invoice_items\n",
        "Track = Base.classes.tracks\n",
        "\n",
        "stmt = (\n",
        "    select(Track.Name, InvoiceItem.Quantity)\n",
        "    .join(Track, InvoiceItem.TrackId == Track.TrackId)\n",
        "    .limit(10)\n",
        ")\n",
        "\n",
        "results = session.execute(stmt).all()\n",
        "for name, quantity in results:\n",
        "    print(f\"Faixa: {name} | Quantidade vendida: {quantity}\")\n"
      ]
    },
    {
      "cell_type": "code",
      "execution_count": 24,
      "metadata": {
        "vscode": {
          "languageId": "plaintext"
        },
        "id": "MLo617nrEM1P",
        "colab": {
          "base_uri": "https://localhost:8080/"
        },
        "outputId": "5312d14b-2531-44d2-a464-7b53f3d0e062"
      },
      "outputs": [
        {
          "output_type": "stream",
          "name": "stdout",
          "text": [
            "Faixa: Balls to the Wall | Total vendido: 2\n",
            "Faixa: Inject The Venom | Total vendido: 2\n",
            "Faixa: Snowballed | Total vendido: 2\n",
            "Faixa: Overdose | Total vendido: 2\n",
            "Faixa: Deuces Are Wild | Total vendido: 2\n",
            "Faixa: Not The Doctor | Total vendido: 2\n",
            "Faixa: Por Causa De Você | Total vendido: 2\n",
            "Faixa: Welcome Home (Sanitarium) | Total vendido: 2\n",
            "Faixa: Snowblind | Total vendido: 2\n",
            "Faixa: Cornucopia | Total vendido: 2\n"
          ]
        }
      ],
      "source": [
        "### Imprima os nomes das 10 faixas mais vendidas e quantas vezes foram vendidas.\n",
        "from sqlalchemy import select, func, desc\n",
        "from sqlalchemy.orm import Session\n",
        "\n",
        "session = Session(engine)\n",
        "InvoiceItem = Base.classes.invoice_items\n",
        "Track = Base.classes.tracks\n",
        "\n",
        "stmt = (\n",
        "    select(Track.Name, func.sum(InvoiceItem.Quantity).label(\"total_vendido\"))\n",
        "    .join(Track, InvoiceItem.TrackId == Track.TrackId)\n",
        "    .group_by(Track.TrackId)\n",
        "    .order_by(desc(\"total_vendido\"))\n",
        "    .limit(10)\n",
        ")\n",
        "\n",
        "results = session.execute(stmt).all()\n",
        "for name, total in results:\n",
        "    print(f\"Faixa: {name} | Total vendido: {total}\")\n"
      ]
    },
    {
      "cell_type": "code",
      "execution_count": 25,
      "metadata": {
        "vscode": {
          "languageId": "plaintext"
        },
        "id": "S6n4o3JaEM1Q",
        "colab": {
          "base_uri": "https://localhost:8080/"
        },
        "outputId": "2dcfeb7e-fbcc-44a2-8823-0e67b294c279"
      },
      "outputs": [
        {
          "output_type": "stream",
          "name": "stdout",
          "text": [
            "Artista: Iron Maiden | Total de vendas: 140\n",
            "Artista: U2 | Total de vendas: 107\n",
            "Artista: Metallica | Total de vendas: 91\n",
            "Artista: Led Zeppelin | Total de vendas: 87\n",
            "Artista: Os Paralamas Do Sucesso | Total de vendas: 45\n",
            "Artista: Deep Purple | Total de vendas: 44\n",
            "Artista: Faith No More | Total de vendas: 42\n",
            "Artista: Lost | Total de vendas: 41\n",
            "Artista: Eric Clapton | Total de vendas: 40\n",
            "Artista: R.E.M. | Total de vendas: 39\n"
          ]
        }
      ],
      "source": [
        "### Quem são os 10 artistas que mais venderam?\n",
        "### dica: você precisa juntar as tabelas invoice_items, tracks, albums e artists\n",
        "from sqlalchemy import select, func, desc\n",
        "\n",
        "InvoiceItem = Base.classes.invoice_items\n",
        "Track = Base.classes.tracks\n",
        "Album = Base.classes.albums\n",
        "Artist = Base.classes.artists\n",
        "\n",
        "stmt = (\n",
        "    select(Artist.Name, func.sum(InvoiceItem.Quantity).label(\"total_vendas\"))\n",
        "    .join(Track, InvoiceItem.TrackId == Track.TrackId)\n",
        "    .join(Album, Track.AlbumId == Album.AlbumId)\n",
        "    .join(Artist, Album.ArtistId == Artist.ArtistId)\n",
        "    .group_by(Artist.ArtistId)\n",
        "    .order_by(desc(\"total_vendas\"))\n",
        "    .limit(10)\n",
        ")\n",
        "\n",
        "results = session.execute(stmt).all()\n",
        "for artist_name, total in results:\n",
        "    print(f\"Artista: {artist_name} | Total de vendas: {total}\")"
      ]
    }
  ],
  "metadata": {
    "language_info": {
      "name": "python"
    },
    "colab": {
      "provenance": []
    },
    "kernelspec": {
      "name": "python3",
      "display_name": "Python 3"
    }
  },
  "nbformat": 4,
  "nbformat_minor": 0
}